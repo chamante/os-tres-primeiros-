{
 "cells": [
  {
   "cell_type": "code",
   "execution_count": null,
   "id": "bdba01b8",
   "metadata": {},
   "outputs": [],
   "source": [
    "#1°\n",
    "(5*(10-4)**2)/(3**3+2)-1\n",
    "#2°\n",
    "((8-2)**2+(11-3)**2)**0.5\n",
    "#3°\n",
    "((7*3)+(8.5*5)+(6*2))/10"
   ]
  }
 ],
 "metadata": {
  "language_info": {
   "name": "python"
  }
 },
 "nbformat": 4,
 "nbformat_minor": 5
}
